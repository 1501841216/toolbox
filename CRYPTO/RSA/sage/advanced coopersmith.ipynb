{
 "cells": [
  {
   "cell_type": "code",
   "id": "initial_id",
   "metadata": {
    "collapsed": true,
    "ExecuteTime": {
     "end_time": "2024-11-02T06:28:27.181789Z",
     "start_time": "2024-11-02T06:27:10.577227Z"
    }
   },
   "source": [
    "# a few skills to use coopersmith to attack half known high bits of p\n",
    "# in the usage of PolynomialRing, small_roots\n",
    "# especially notice the usage of backwards iteration to violently crack the 6 bits of P\n",
    "from tqdm import *\n",
    "from Crypto.Util.number import *\n",
    "n = 0x00b8cb1cca99b6ac41876c18845732a5cbfc875df346ee9002ce608508b5fcf6b60a5ac7722a2d64ef74e1443a338e70a73e63a303f3ac9adf198595699f6e9f30c009d219c7d98c4ec84203610834029c79567efc08f66b4bc3f564bfb571546a06b7e48fb35bb9ccea9a2cd44349f829242078dfa64d525927bfd55d099c024f\n",
    "p_high = 0xe700568ff506bd5892af92592125e06cbe9bd45dfeafe931a333c13463023d4f0000000000000000000000000000000000000000000000000000000000000000\n",
    "e = 0x10001\n",
    "c=0x98f4162a4aa26b7e8eb320c4d69c6ed2f5ce68e27b60f87a1d1bda5e509df48380d47fe5bacbc7cdabe5ec4a3a3fbf5c0494b79dd479e05f22ccf534173a2b2eb1e3c78e3e8ee9b756f68199262acef170afbe87b2bad4db1f206e2cda89c40ba41ef967ee251a85b02fa51bbe324c66fe1d70f1265883e5275983f23c0a63d8 \n",
    "\n",
    "\n",
    "PR.<x> = PolynomialRing(Zmod(n)) \n",
    "for i in trange(2 ** 6, 0, -1):\n",
    "    f = p_high + x * 2 ** 6 + i \n",
    "    f = f.monic() \n",
    "    res = f.small_roots(X = 2 ^ 250, beta = 0.5, epsilon = 0.01)\n",
    "    if res: \n",
    "        p = (p_high + int(res[0]) * 2 ** 6 + i) \n",
    "        q = n // p \n",
    "        d = inverse(e, (p - 1) * (q - 1))\n",
    "        print(long_to_bytes(int(pow(c, int(d), n))))\n",
    "        break "
   ],
   "outputs": [
    {
     "name": "stderr",
     "output_type": "stream",
     "text": [
      "  8%|▊         | 5/64 [01:16<15:03, 15.32s/it]"
     ]
    },
    {
     "name": "stdout",
     "output_type": "stream",
     "text": [
      "b'wdflag{wdb_2024_djwjby}'\n"
     ]
    },
    {
     "name": "stderr",
     "output_type": "stream",
     "text": [
      "\n"
     ]
    }
   ],
   "execution_count": 12
  }
 ],
 "metadata": {
  "kernelspec": {
   "display_name": "SageMath 10.4",
   "language": "sage",
   "name": "sagemath"
  },
  "language_info": {
   "codemirror_mode": {
    "name": "ipython",
    "version": 2
   },
   "file_extension": ".py",
   "mimetype": "text/x-python",
   "name": "python",
   "nbconvert_exporter": "python",
   "pygments_lexer": "ipython2",
   "version": "2.7.6"
  }
 },
 "nbformat": 4,
 "nbformat_minor": 5
}
