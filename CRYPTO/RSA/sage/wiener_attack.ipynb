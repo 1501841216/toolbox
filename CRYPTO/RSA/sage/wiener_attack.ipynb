{
 "cells": [
  {
   "cell_type": "code",
   "execution_count": null,
   "id": "initial_id",
   "metadata": {
    "collapsed": true
   },
   "outputs": [],
   "source": [
    "# d < N^0.25, q<p<2q\n",
    "# big e\n",
    "from Crypto.Util.number import long_to_bytes\n",
    "\n",
    "def wiener(e, n):\n",
    "    # Convert e/n into a continued fraction\n",
    "    cf = continued_fraction(e/n)\n",
    "    convergents = cf.convergents()\n",
    "    for kd in convergents:\n",
    "        k = kd.numerator()\n",
    "        d = kd.denominator()\n",
    "        # Check if k and d meet the requirements\n",
    "        if k == 0 or d%2 == 0 or e*d % k != 1:\n",
    "            continue\n",
    "        phi = (e*d - 1)/k\n",
    "        # Create the polynomial\n",
    "        x = PolynomialRing(RationalField(), 'x').gen()\n",
    "        f = x^2 - (n-phi+1)*x + n\n",
    "        roots = f.roots()\n",
    "        # Check if polynomial as two roots\n",
    "        if len(roots) != 2:\n",
    "            continue\n",
    "        # Check if roots of the polynomial are p and q\n",
    "        p,q = int(roots[0][0]), int(roots[1][0])\n",
    "        if p*q == n:\n",
    "            return d\n",
    "    return None\n",
    "# Test to see if our attack works\n",
    "if __name__ == '__main__':\n",
    "    n = 6727075990400738687345725133831068548505159909089226909308151105405617384093373931141833301653602476784414065504536979164089581789354173719785815972324079\n",
    "    e = 4805054278857670490961232238450763248932257077920876363791536503861155274352289134505009741863918247921515546177391127175463544741368225721957798416107743\n",
    "    c = 5928120944877154092488159606792758283490469364444892167942345801713373962617628757053412232636219967675256510422984948872954949616521392542703915478027634\n",
    "    d = wiener(e,n)\n",
    "    assert not d is None, \"Wiener's attack failed :(\"\n",
    "    print(long_to_bytes(int(pow(c,d,n))).decode())"
   ]
  }
 ],
 "metadata": {
  "kernelspec": {
   "display_name": "Python 3",
   "language": "python",
   "name": "python3"
  },
  "language_info": {
   "codemirror_mode": {
    "name": "ipython",
    "version": 2
   },
   "file_extension": ".py",
   "mimetype": "text/x-python",
   "name": "python",
   "nbconvert_exporter": "python",
   "pygments_lexer": "ipython2",
   "version": "2.7.6"
  }
 },
 "nbformat": 4,
 "nbformat_minor": 5
}
