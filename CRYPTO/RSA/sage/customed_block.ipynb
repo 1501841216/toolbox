{
 "cells": [
  {
   "cell_type": "code",
   "execution_count": null,
   "id": "initial_id",
   "metadata": {
    "collapsed": true
   },
   "outputs": [],
   "source": [
    "from sage.all import *\n",
    "from Crypto.Util.number import *\n",
    "\n",
    "block_size = 64\n",
    "rounds = 14\n",
    "\n",
    "P_permutation = Permutations(list(range(block_size))).random_element()\n",
    "inverse_P_permutation = [P_permutation.index(i) for i in range(block_size)]\n",
    "\n",
    "MASK = 0b1110001001111001000110010000100010101111101100101110100001001001\n",
    "IV = 7\n",
    "\n",
    "b2i = lambda x: Integer(sum([x[i] * 2**i for i in range(len(x))]))\n",
    "\n",
    "def pad(x):\n",
    "    padlen = block_size - len(x) % block_size\n",
    "    return x + bytes([padlen] * padlen)\n",
    "\n",
    "def P(x):\n",
    "    bit_x = x.bits()\n",
    "    if len(bit_x) < block_size:\n",
    "        bit_x.extend([0] * (block_size - len(bit_x)))\n",
    "    bit_x = [bit_x[P_permutation[i]] for i in range(block_size)]\n",
    "    return b2i(bit_x)\n",
    "\n",
    "def P_inv(x):\n",
    "    bit_x = x.bits()\n",
    "    if len(bit_x) < block_size:\n",
    "        bit_x.extend([0] * (block_size - len(bit_x)))\n",
    "    bit_x = [bit_x[inverse_P_permutation[i]] for i in range(block_size)]\n",
    "    return b2i(bit_x)\n",
    "\n",
    "def S(x):\n",
    "    x1 = x\n",
    "    x2 = x << IV & MASK\n",
    "    x3 = x << IV & ((1 << block_size) - 1) | MASK\n",
    "    return x1 ^ x2 ^ x3\n",
    "\n",
    "def encrypt(message_block, key):\n",
    "    ret = message_block\n",
    "    for i in range(rounds):\n",
    "        ret = P_inv(S(P(ret)) ^ key)\n",
    "    return ret\n",
    "\n",
    "from secret import flag\n",
    "from hashlib import md5\n",
    "\n",
    "message = pad(flag)\n",
    "message = [Integer(bytes_to_long(message[i:i+8])) for i in range(0, len(message), 8)]\n",
    "\n",
    "key = int(md5(flag).hexdigest(), 16) & ((1 << block_size) - 1)\n",
    "\n",
    "ciphertext = [encrypt(m, key) for m in message]\n",
    "\n",
    "print(ciphertext)\n",
    "print(P_permutation)"
   ]
  }
 ],
 "metadata": {
  "kernelspec": {
   "display_name": "Python 3",
   "language": "python",
   "name": "python3"
  },
  "language_info": {
   "codemirror_mode": {
    "name": "ipython",
    "version": 2
   },
   "file_extension": ".py",
   "mimetype": "text/x-python",
   "name": "python",
   "nbconvert_exporter": "python",
   "pygments_lexer": "ipython2",
   "version": "2.7.6"
  }
 },
 "nbformat": 4,
 "nbformat_minor": 5
}
