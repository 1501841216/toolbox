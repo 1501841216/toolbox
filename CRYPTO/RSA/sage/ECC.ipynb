{
 "cells": [
  {
   "metadata": {},
   "cell_type": "code",
   "outputs": [],
   "execution_count": null,
   "source": [
    "# 2024 Cyber_Apocalypse\n",
    "# 基于共享密钥的ECC攻击\n",
    "from Crypto.Cipher import AES\n",
    "from Crypto.Util.Padding import pad\n",
    "from Crypto.Util.number import long_to_bytes\n",
    "from hashlib import sha256\n",
    "\n",
    "\n",
    "F = GF(p)\n",
    "E = EllipticCurve(F, [726, b])\n",
    "G = E(926644437000604217447316655857202297402572559368538978912888106419470011487878351667380679323664062362524967242819810112524880301882054682462685841995367, 4856802955780604241403155772782614224057462426619061437325274365157616489963087648882578621484232159439344263863246191729458550632500259702851115715803253)\n",
    "\n",
    "A = G * priv_a\n",
    "B = G * priv_b\n",
    "\n",
    "print(A)\n",
    "print(B)\n",
    "\n",
    "C = priv_a * B\n",
    "\n",
    "assert C == priv_b * A\n",
    "\n",
    "# now use it as shared secret\n",
    "secret = C[0]\n",
    "\n",
    "hash = sha256()\n",
    "hash.update(long_to_bytes(secret))\n",
    "\n",
    "key = hash.digest()[16:32]\n",
    "iv = b'u\\x8fo\\x9aK\\xc5\\x17\\xa7>[\\x18\\xa3\\xc5\\x11\\x9en'\n",
    "cipher = AES.new(key, AES.MODE_CBC, iv)\n",
    "\n",
    "encrypted = cipher.encrypt(pad(FLAG, 16))\n",
    "print(encrypted)"
   ],
   "id": "14567d5fa25ad681"
  }
 ],
 "metadata": {
  "kernelspec": {
   "display_name": "Python 3",
   "language": "python",
   "name": "python3"
  },
  "language_info": {
   "codemirror_mode": {
    "name": "ipython",
    "version": 2
   },
   "file_extension": ".py",
   "mimetype": "text/x-python",
   "name": "python",
   "nbconvert_exporter": "python",
   "pygments_lexer": "ipython2",
   "version": "2.7.6"
  }
 },
 "nbformat": 4,
 "nbformat_minor": 5
}
