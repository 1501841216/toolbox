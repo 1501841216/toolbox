{
 "cells": [
  {
   "cell_type": "code",
   "id": "initial_id",
   "metadata": {
    "collapsed": true,
    "ExecuteTime": {
     "end_time": "2024-11-22T06:20:19.913798Z",
     "start_time": "2024-11-22T06:20:19.897003Z"
    }
   },
   "source": [
    "# 使用 SageMath 求解方程组\n",
    "# var('x y')\n",
    "# eq1 = x + y == 10\n",
    "# eq2 = x - y == 2\n",
    "# \n",
    "# solutions = solve([eq1, eq2], x, y)\n",
    "# print(solutions)\n",
    "\n",
    "from Crypto.Util.number import *\n",
    "\n",
    "e = 65537\n",
    "var('p q')\n",
    "eq1 = (p+q)/2 == 75635892913589759545076958131039534718834447688923830032758709253942408722875\n",
    "eq2 = p*q == 5700102857084805454304483466349768960970728516788155745115335016563400814300152521175777999545445613444815936222559357974566843756936687078467221979584601\n",
    "c =  888629627089650993173073530112503758717074884215641346688043288414489462472394318700014742820213053802180975816089493243275025049174955385229062207064503\n",
    "solutions = solve([eq1, eq2], p, q)\n",
    "first_solution = solutions[0]\n",
    "p = first_solution[1].rhs()\n",
    "q = first_solution[0].rhs()\n",
    "phi = (p-1)*(q-1)\n",
    "d = inverse(e,phi)\n",
    "m = long_to_bytes(pow(c,d,p*q))\n",
    "print(m)"
   ],
   "outputs": [
    {
     "name": "stdout",
     "output_type": "stream",
     "text": [
      "b'hsctf{Dl3F4TH3rRR4iin_AvAvA}'\n"
     ]
    }
   ],
   "execution_count": 26
  },
  {
   "metadata": {},
   "cell_type": "code",
   "outputs": [],
   "execution_count": null,
   "source": "",
   "id": "ba4efaa8c8277c7"
  }
 ],
 "metadata": {
  "kernelspec": {
   "display_name": "SageMath 10.4",
   "language": "sage",
   "name": "sagemath"
  },
  "language_info": {
   "codemirror_mode": {
    "name": "ipython",
    "version": 2
   },
   "file_extension": ".py",
   "mimetype": "text/x-python",
   "name": "python",
   "nbconvert_exporter": "python",
   "pygments_lexer": "ipython2",
   "version": "2.7.6"
  }
 },
 "nbformat": 4,
 "nbformat_minor": 5
}
